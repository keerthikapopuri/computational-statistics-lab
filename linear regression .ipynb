{
 "cells": [
  {
   "cell_type": "code",
   "execution_count": 28,
   "id": "a88c9a11",
   "metadata": {},
   "outputs": [],
   "source": [
    "import pandas as pd\n",
    "import matplotlib.pyplot as plt\n"
   ]
  },
  {
   "cell_type": "code",
   "execution_count": 29,
   "id": "8934c631",
   "metadata": {},
   "outputs": [
    {
     "name": "stdout",
     "output_type": "stream",
     "text": [
      "   col1  col2\n",
      "0    12    22\n",
      "1    23    22\n",
      "2    34    35\n",
      "3    45    44\n",
      "4    56    60\n",
      "5    67    66\n",
      "6    78    84\n",
      "7    89    90\n",
      "8    52    53\n",
      "9    46    52\n"
     ]
    }
   ],
   "source": [
    "df=pd.read_csv(\"C:\\\\Users\\\\y20cs142\\\\Desktop\\\\data.csv\")\n",
    "print(df)\n",
    "x=df['col1']\n",
    "y=df['col2']\n",
    "def summation(l):\n",
    "    sum=0\n",
    "    for i in l:\n",
    "        sum=sum+i\n",
    "    return sum"
   ]
  },
  {
   "cell_type": "code",
   "execution_count": 30,
   "id": "3976d755",
   "metadata": {},
   "outputs": [
    {
     "name": "stdout",
     "output_type": "stream",
     "text": [
      "sum of x values= 502\n",
      "sum of y values= 528\n",
      "sum of x2 values= 30304\n",
      "sum of xy values= 31432\n",
      "0.965279410612117\n",
      "4.34297358727173\n"
     ]
    }
   ],
   "source": [
    "sumx=summation(x)\n",
    "print('sum of x values=',sumx)\n",
    "sumy=summation(y)\n",
    "print('sum of y values=',sumy)\n",
    "sumxx=summation(x*x)\n",
    "print('sum of x2 values=',sumxx)\n",
    "sumxy=summation(x*y)\n",
    "print('sum of xy values=',sumxy)\n",
    "slope=((len(x)*sumxy)-(sumx*sumy))/((len(x)*sumxx)-(sumx)**2)\n",
    "print(slope)\n",
    "intercept=((sumxx*sumy)-(sumx*sumxy))/((len(x)*sumxx)-(sumx)**2)\n",
    "print(intercept)"
   ]
  },
  {
   "cell_type": "code",
   "execution_count": 31,
   "id": "51f76187",
   "metadata": {},
   "outputs": [
    {
     "name": "stdout",
     "output_type": "stream",
     "text": [
      "0    15.926327\n",
      "1    26.544400\n",
      "2    37.162474\n",
      "3    47.780547\n",
      "4    58.398621\n",
      "5    69.016694\n",
      "6    79.634768\n",
      "7    90.252841\n",
      "8    54.537503\n",
      "9    48.745826\n",
      "Name: col1, dtype: float64\n",
      "0    22\n",
      "1    22\n",
      "2    35\n",
      "3    44\n",
      "4    60\n",
      "5    66\n",
      "6    84\n",
      "7    90\n",
      "8    53\n",
      "9    52\n",
      "Name: col2, dtype: int64\n"
     ]
    }
   ],
   "source": [
    "yexp=slope*x+intercept\n",
    "ycal=df['col2']\n",
    "print(yexp)\n",
    "print(ycal)"
   ]
  },
  {
   "cell_type": "code",
   "execution_count": 32,
   "id": "c33b8992",
   "metadata": {},
   "outputs": [
    {
     "data": {
      "image/png": "[encoded data removed]",
      "text/plain": [
       "<Figure size 432x288 with 1 Axes>"
      ]
     },
     "metadata": {
      "needs_background": "light"
     },
     "output_type": "display_data"
    }
   ],
   "source": [
    "plt.plot(x,ycal)\n",
    "plt.scatter(x,ycal)\n",
    "plt.plot(x,yexp)\n",
    "plt.scatter(x,yexp)\n",
    "plt.show()"
   ]
  }
 ],
 "metadata": {
  "kernelspec": {
   "display_name": "Python 3 (ipykernel)",
   "language": "python",
   "name": "python3"
  },
  "language_info": {
   "codemirror_mode": {
    "name": "ipython",
    "version": 3
   },
   "file_extension": ".py",
   "mimetype": "text/x-python",
   "name": "python",
   "nbconvert_exporter": "python",
   "pygments_lexer": "ipython3",
   "version": "3.9.7"
  }
 },
 "nbformat": 4,
 "nbformat_minor": 5
}
