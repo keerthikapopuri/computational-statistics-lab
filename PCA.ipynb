{
  "nbformat": 4,
  "nbformat_minor": 0,
  "metadata": {
    "colab": {
      "provenance": [],
      "authorship_tag": "ABX9TyMzUiNP1azwcAROIzxuptX8",
      "include_colab_link": true
    },
    "kernelspec": {
      "name": "python3",
      "display_name": "Python 3"
    },
    "language_info": {
      "name": "python"
    }
  },
  "cells": [
    {
      "cell_type": "markdown",
      "metadata": {
        "id": "view-in-github",
        "colab_type": "text"
      },
      "source": [
        "<a href=\"https://colab.research.google.com/github/keerthikapopuri/computational-statistics-lab/blob/main/PCA.ipynb\" target=\"_parent\"><img src=\"https://colab.research.google.com/assets/colab-badge.svg\" alt=\"Open In Colab\"/></a>"
      ]
    },
    {
      "cell_type": "code",
      "source": [
        "#determinant of matrix\n",
        "import numpy as np\n",
        "def cofactor(a,i,j):\n",
        "  temp=np.concatenate((a[:i,:j],a[:i,j+1:]),axis=1)\n",
        "  new=np.concatenate((a[i+1:,:j],a[i+1:,j+1:]),axis=1)\n",
        "  return np.concatenate((temp,new))\n",
        "def det_of(a):\n",
        "  if(len(a)==2):\n",
        "    val=(a[0][0]*a[1][1])-(a[0][1]*a[1][0])\n",
        "  elif(len(a)==1):\n",
        "    val=a\n",
        "  else:\n",
        "    val=0\n",
        "    for col in range(len(a)):\n",
        "      sign=(-1)**col\n",
        "      sub_det=det_of(cofactor(a,0,col))\n",
        "      val+=(sign*a[0][col]*sub_det)\n",
        "  return val\n",
        "a=np.array([[6,9,1],[2,3,8],[10,7,9]])\n"
      ],
      "metadata": {
        "id": "Vegv3V29WB5l"
      },
      "execution_count": 4,
      "outputs": []
    },
    {
      "cell_type": "code",
      "source": [
        "import numpy as np\n",
        "def transpose(a):\n",
        "  rows,cols=a.shape\n",
        "  new=np.zeros((cols,rows),dtype=float)\n",
        "  for i in range(rows):\n",
        "    for j in range(cols):\n",
        "      new[j][i]=a[i][j]\n",
        "  return new"
      ],
      "metadata": {
        "id": "73aki0R9WFtE"
      },
      "execution_count": 5,
      "outputs": []
    },
    {
      "cell_type": "code",
      "source": [
        "import numpy as np\n",
        "def multiply(a,b):\n",
        "  row1,col1=a.shape\n",
        "  row2,col2=b.shape\n",
        "  new=np.zeros((row1,col2),dtype=float)\n",
        "  for i in range(row1):\n",
        "    for j in range(col2):\n",
        "      for k in range(col1):\n",
        "        new[i][j]=new[i][j]+(a[i][k]*b[k][j])\n",
        "  return new"
      ],
      "metadata": {
        "id": "8RlI9cqDWHua"
      },
      "execution_count": 6,
      "outputs": []
    },
    {
      "cell_type": "code",
      "source": [
        "import numpy as np\n",
        "def adjoint(a):\n",
        "  rows,cols=a.shape\n",
        "  sign=[+1.0,-1.0]\n",
        "  temp=0\n",
        "  adj=np.empty([rows,cols],dtype=float)\n",
        "  for i in range(rows):\n",
        "    if(i%2==0):\n",
        "        temp=0\n",
        "    else:\n",
        "      temp=1\n",
        "    for j in range(cols):\n",
        "      if(temp==0):\n",
        "        mul=sign[0]\n",
        "        temp=1\n",
        "      else:\n",
        "        mul=sign[1]\n",
        "        temp=0\n",
        "      co=cofactor(a,i,j)\n",
        "      val=det_of(co)\n",
        "      #print(val)\n",
        "      val=val*mul\n",
        "      #print(mul)\n",
        "      adj[i][j]=val\n",
        "    return adj"
      ],
      "metadata": {
        "id": "a-0XPJGZWJ_h"
      },
      "execution_count": 7,
      "outputs": []
    },
    {
      "cell_type": "code",
      "source": [
        "def inverse(a):\n",
        "  adj=adjoint(a)\n",
        "  tran=transpose(adj)\n",
        "  det=det_of(a)\n",
        "  inv=tran/det\n",
        "  return inv"
      ],
      "metadata": {
        "id": "2x0YAGm3WQXS"
      },
      "execution_count": 8,
      "outputs": []
    },
    {
      "cell_type": "markdown",
      "source": [
        "Program\n"
      ],
      "metadata": {
        "id": "yR3jgWcKmQ1R"
      }
    },
    {
      "cell_type": "code",
      "source": [
        "import numpy as np\n",
        "#n=int(input(\"enter the size: \"))\n",
        "#p=int(input(\"enter the number of variables: \"))\n",
        "#l=[]\n",
        "#for i in range(p):\n",
        "  #l1=list(map(float,input().split()))\n",
        "  #l.append(l1)\n",
        "l=[[7,4,6,8,8,7,5,9,7,8],[4,1,3,6,5,2,3,5,4,2],[3,8,5,1,7,9,3,8,5,2]]\n",
        "x=np.transpose(l)\n",
        "mean=np.mean(x,axis=0)\n",
        "xminusu=x-mean\n",
        "#print(xminusu)\n",
        "#print(mean)\n",
        "c=multiply(transpose(xminusu),xminusu)/len(x)\n",
        "#print(c)\n",
        "values,vectors=np.linalg.eig(c)\n",
        "vectors=transpose(vectors)\n",
        "values=list(values)\n",
        "values_desc=[]\n",
        "values_desc=sorted(values)\n",
        "values_desc=values_desc[::-1]\n",
        "#print(values)\n",
        "#print(vectors)\n",
        "sum=0\n",
        "component=[]\n",
        "tot_sum=0\n",
        "req_range=int(input(\"enter the range u want?\"))\n",
        "if(req_range<=95):\n",
        "  req_range=req_range+5\n",
        "final=[]\n",
        "for i in values_desc:\n",
        "  tot_sum+=i\n",
        "for i in values_desc:\n",
        "  sum+=i\n",
        "  component=(sum/tot_sum)*100\n",
        "  if component<=req_range:\n",
        "    ind=values.index(i)\n",
        "    vec=vectors[ind]\n",
        "    col=np.dot(x,vec)\n",
        "    final.append(col)\n",
        "final=np.array(final)\n",
        "print(final)"
      ],
      "metadata": {
        "colab": {
          "base_uri": "https://localhost:8080/"
        },
        "id": "oghVY2Z6WWwS",
        "outputId": "7af43d26-8364-45ae-c44a-fb67633fde97"
      },
      "execution_count": 54,
      "outputs": [
        {
          "output_type": "stream",
          "name": "stdout",
          "text": [
            "enter the range u want?90\n",
            "[[ 0.91007402  6.86567938  3.21471006 -1.64502171  4.35525466  7.16081008\n",
            "   1.4356753   5.17598665  2.82667958  0.31511981]\n",
            " [ 8.3560561   5.64167652  7.54228952  9.83071184 10.80830182  8.67275691\n",
            "   6.29709269 11.7804188   8.90221581  7.46023502]]\n"
          ]
        }
      ]
    },
    {
      "cell_type": "code",
      "source": [
        "#using user-defined multiplication \n",
        "if component<=req_range:\n",
        "    ind=values.index(i)\n",
        "    vectors=list(vectors)\n",
        "    vec=vectors[ind]\n",
        "    vec=np.array([vec])\n",
        "    vec=transpose(vec)\n",
        "    col=multiply(x,vec)\n",
        "    final.append(col)"
      ],
      "metadata": {
        "id": "smAAtAKCmC2z"
      },
      "execution_count": null,
      "outputs": []
    }
  ]
}