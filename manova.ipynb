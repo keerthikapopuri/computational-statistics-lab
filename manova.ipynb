{
  "nbformat": 4,
  "nbformat_minor": 0,
  "metadata": {
    "colab": {
      "name": "Copy of manova.ipynb",
      "provenance": [],
      "authorship_tag": "ABX9TyOfQy4Sp/m44BM9jqbWiNE4",
      "include_colab_link": true
    },
    "kernelspec": {
      "name": "python3",
      "display_name": "Python 3"
    },
    "language_info": {
      "name": "python"
    }
  },
  "cells": [
    {
      "cell_type": "markdown",
      "metadata": {
        "id": "view-in-github",
        "colab_type": "text"
      },
      "source": [
        "<a href=\"https://colab.research.google.com/github/keerthikapopuri/computational-statistics-lab/blob/main/manova.ipynb\" target=\"_parent\"><img src=\"https://colab.research.google.com/assets/colab-badge.svg\" alt=\"Open In Colab\"/></a>"
      ]
    },
    {
      "cell_type": "code",
      "execution_count": null,
      "metadata": {
        "id": "yJVYl28a-wpm"
      },
      "outputs": [],
      "source": [
        "import pandas as pd \n",
        "\n",
        "import numpy as np\n",
        "\n",
        "import statistics\n",
        "\n",
        "import math as m\n"
      ]
    },
    {
      "cell_type": "code",
      "source": [
        "#determinant of matrix\n",
        "import numpy as np\n",
        "def cofactor(a,i,j):\n",
        "  temp=np.concatenate((a[:i,:j],a[:i,j+1:]),axis=1)\n",
        "  new=np.concatenate((a[i+1:,:j],a[i+1:,j+1:]),axis=1)\n",
        "  return np.concatenate((temp,new))\n",
        "def det_of(a):\n",
        "  if(len(a)==2):\n",
        "    val=(a[0][0]*a[1][1])-(a[0][1]*a[1][0])\n",
        "  elif(len(a)==1):\n",
        "    val=a\n",
        "  else:\n",
        "    val=0\n",
        "    for col in range(len(a)):\n",
        "      sign=(-1)**col\n",
        "      sub_det=det_of(cofactor(a,0,col))\n",
        "      val+=(sign*a[0][col]*sub_det)\n",
        "  return val"
      ],
      "metadata": {
        "id": "UFOhwpvknpBs"
      },
      "execution_count": null,
      "outputs": []
    },
    {
      "cell_type": "code",
      "source": [
        "import numpy as np\n",
        "def transpose(a):\n",
        "  rows,cols=a.shape\n",
        "  new=np.zeros((cols,rows),dtype=int)\n",
        "  for i in range(rows):\n",
        "    for j in range(cols):\n",
        "      new[j][i]=a[i][j]\n",
        "  return new"
      ],
      "metadata": {
        "id": "eybHpJYhnue-"
      },
      "execution_count": null,
      "outputs": []
    },
    {
      "cell_type": "code",
      "source": [
        "t1=(np.array([[9,6,9],[3,2,7]]))# creating array row wise\n",
        "t2=np.array([[0,2],[4,0]])\n",
        "t3=np.array([[3,1,2],[8,9,7]])\n",
        "total=[t1,t2,t3]\n",
        "tot=[]\n",
        "for i in total:#iterating through t1,t2,t3\n",
        "  l=[]\n",
        "  length=0\n",
        "  for x in i:#accesing each row in t1,t2,t3 like 9,6,9,0,2,3,1,2\n",
        "    sum=0\n",
        "    length=len(x)\n",
        "    for j in x:#accesing each element row wise like order 9,6,9\n",
        "      sum+=j\n",
        "    l.append(sum/length)# getting each element of yi\n",
        "  tot.append(l)#appending each row corresponding list finally we get 3 lists here\n",
        "yi=transpose(np.array(tot))\n",
        "l1=[]\n",
        "rows,cols=t1.shape\n",
        "for j in range(rows):#to get both rows sum seperately \n",
        "  sum1=0\n",
        "  count=0\n",
        "  for i in range(len(total)):#accesing t1,t2,t3\n",
        "    for x in total[i][j]:#accesing firstly top elements of t1,t2,t3 then second row \n",
        "      sum1+=x\n",
        "      count+=1\n",
        "  l1.append(sum1/count)#adding all of 'em \n",
        "ybar=np.array(l1)\n",
        "table={\"treatments:\":[\"t1\",\"t2\",\"t3\"],\"values\":[t1,t2,t3],\"yi\":[yi[0],yi[1],\" \"],\"ybar\":[ybar[0],ybar[1],\" \"]} #printing component wise for better understanding \n",
        "table=pd.DataFrame(table)\n",
        "print(table)"
      ],
      "metadata": {
        "colab": {
          "base_uri": "https://localhost:8080/"
        },
        "id": "23iMV4ohAaRQ",
        "outputId": "39dad9c3-9acc-4dcf-8f24-d69d032f0329"
      },
      "execution_count": null,
      "outputs": [
        {
          "output_type": "stream",
          "name": "stdout",
          "text": [
            "  treatments:                  values         yi ybar\n",
            "0          t1  [[9, 6, 9], [3, 2, 7]]  [8, 1, 2]  4.0\n",
            "1          t2        [[0, 2], [4, 0]]  [4, 2, 8]  5.0\n",
            "2          t3  [[3, 1, 2], [8, 9, 7]]                \n"
          ]
        }
      ]
    },
    {
      "cell_type": "code",
      "source": [
        "#calculations\n",
        "#for y1\n",
        "\n",
        "sse_1=0\n",
        "for i in range(len(total)):#iterating through t1,t2,t3\n",
        "  for x in total[i][0]:#iterating through fitrst elements of t1,t2,t3\n",
        "    sse_1+=(x-yi[0][i])**2 #subtracting with corresponding coloumn yi\n",
        "print(\"sse_1: \",sse_1)\n",
        "sst_1=0\n",
        "for i in range(len(total)):\n",
        "  for x in total[i][0]:\n",
        "    sst_1+=(x-ybar[0])**2\n",
        "print(\"sst_1: \",sst_1)\n",
        "ssr_1=sst_1-sse_1\n",
        "print(\"ssr_1: \",ssr_1)\n",
        "\n",
        "#for y2\n",
        "\n",
        "sse_2=0\n",
        "for i in range(len(total)):#iterating through t1,t2,t3\n",
        "  for x in total[i][1]:\n",
        "    sse_2+=(x-yi[1][i])**2\n",
        "print(\"sse_2: \",sse_2)\n",
        "sst_2=0\n",
        "for i in range(len(total)):\n",
        "  for x in total[i][1]:\n",
        "    sst_2+=(x-ybar[1])**2\n",
        "print(\"sst_2: \",sst_2)\n",
        "ssr_2=sst_2-sse_2\n",
        "print(\"ssr_2: \",ssr_2)\n",
        "\n",
        "#for y1*y2\n",
        "sse_3=0\n",
        "prodyi=[]\n",
        "for col in yi.T:\n",
        "    pro_yi=1\n",
        "    for y in col:\n",
        "      pro_yi*=y\n",
        "    prodyi.append(pro_yi)\n",
        "for i in range(len(total)):\n",
        "  for col in total[i].T:\n",
        "    pro=1\n",
        "    for x in col:\n",
        "      pro*=x\n",
        "    sse_3+=pro-prodyi[i]\n",
        "print(\"sse_3: \",sse_3)    \n",
        "sst_3=0\n",
        "for i in range(len(total)):\n",
        "  pro_ybar=np.prod(ybar)\n",
        "  for col in total[i].T:\n",
        "    pro=1\n",
        "    for x in col:\n",
        "      pro*=x\n",
        "    sst_3+=(pro-pro_ybar)\n",
        "print(\"sst_3: \",sst_3)\n",
        "ssr_3=sst_3-sse_3\n",
        "print(\"ssr_3: \",ssr_3)"
      ],
      "metadata": {
        "colab": {
          "base_uri": "https://localhost:8080/"
        },
        "id": "UuAFubOLIh_V",
        "outputId": "12b966ec-6644-4248-ff90-f29ed4022468"
      },
      "execution_count": null,
      "outputs": [
        {
          "output_type": "stream",
          "name": "stdout",
          "text": [
            "sse_1:  10\n",
            "sst_1:  88.0\n",
            "ssr_1:  78.0\n",
            "sse_2:  24\n",
            "sst_2:  72.0\n",
            "ssr_2:  48.0\n",
            "sse_3:  1\n",
            "sst_3:  -11.0\n",
            "ssr_3:  -12.0\n"
          ]
        }
      ]
    },
    {
      "cell_type": "code",
      "source": [
        "b=np.array([[ssr_1,ssr_3],[ssr_3,ssr_2]])\n",
        "w=np.array([[sse_1,sse_3],[sse_3,sse_2]])\n",
        "t=np.array([[sst_1,sst_3],[sst_3,sst_2]])\n",
        "k=len(total)\n",
        "dof_r=k-1\n",
        "n=t1.shape[1]+t2.shape[1]+t3.shape[1]\n",
        "dof_error=n-k\n",
        "dof_total=n-1\n",
        "wilks=det_of(w)/det_of(t)\n",
        "f=((n-k-1)/(k-1))*((1-m.sqrt(wilks))/m.sqrt(wilks))\n",
        "table={\"source of variation\":[\"regression\",\"error\",\"total\"],\"sum of squares\":[b,w,t],\"dof\":[dof_r,dof_error,dof_total],\"wilks value\":[\" \",wilks,\" \"],\"F_statistic\":[\" \",f,\" \"]}\n",
        "manova_table=pd.DataFrame(table)\n",
        "print(manova_table)\n"
      ],
      "metadata": {
        "colab": {
          "base_uri": "https://localhost:8080/"
        },
        "id": "7mwVakFGbKLN",
        "outputId": "0d249520-5b89-4ec3-f616-bd13c3805508"
      },
      "execution_count": null,
      "outputs": [
        {
          "output_type": "stream",
          "name": "stdout",
          "text": [
            "  source of variation                  sum of squares  dof wilks value  \\\n",
            "0          regression  [[78.0, -12.0], [-12.0, 48.0]]    2               \n",
            "1               error              [[10, 1], [1, 24]]    5    0.038455   \n",
            "2               total  [[88.0, -11.0], [-11.0, 72.0]]    7               \n",
            "\n",
            "  F_statistic  \n",
            "0              \n",
            "1     8.19886  \n",
            "2              \n"
          ]
        }
      ]
    },
    {
      "cell_type": "code",
      "source": [
        "#inference\n",
        "import scipy.stats\n",
        "f_table = scipy.stats.f.ppf( q=1-.05 , dfn=dof_r, dfd=dof_error) #getting table value of f\n",
        "print(f_table)\n",
        "if f>f_table:\n",
        "  print(\"we reject h0\")\n",
        "  print(\"there is no homogenity in data\")\n",
        "else:\n",
        "  print(\"we accept h0\")\n",
        "  print(\"there is homogenity in data\")"
      ],
      "metadata": {
        "colab": {
          "base_uri": "https://localhost:8080/"
        },
        "id": "1DO-oY2ZfIYw",
        "outputId": "091bc9db-70ee-467c-8b42-7e5cacf63c44"
      },
      "execution_count": null,
      "outputs": [
        {
          "output_type": "stream",
          "name": "stdout",
          "text": [
            "5.786135043349964\n",
            "we reject h0\n",
            "there is no homogenity in data\n"
          ]
        }
      ]
    }
  ]
}