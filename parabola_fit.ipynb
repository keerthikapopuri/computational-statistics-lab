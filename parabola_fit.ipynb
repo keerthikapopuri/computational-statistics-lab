{
  "nbformat": 4,
  "nbformat_minor": 0,
  "metadata": {
    "colab": {
      "provenance": [],
      "authorship_tag": "ABX9TyP9i/PdAPwW+KbR4SrIsoZ4",
      "include_colab_link": true
    },
    "kernelspec": {
      "name": "python3",
      "display_name": "Python 3"
    },
    "language_info": {
      "name": "python"
    }
  },
  "cells": [
    {
      "cell_type": "markdown",
      "metadata": {
        "id": "view-in-github",
        "colab_type": "text"
      },
      "source": [
        "<a href=\"https://colab.research.google.com/github/keerthikapopuri/computational-statistics-lab/blob/main/parabola_fit.ipynb\" target=\"_parent\"><img src=\"https://colab.research.google.com/assets/colab-badge.svg\" alt=\"Open In Colab\"/></a>"
      ]
    },
    {
      "cell_type": "code",
      "execution_count": 4,
      "metadata": {
        "id": "ZX4ydjV6Z3t1"
      },
      "outputs": [],
      "source": [
        "import pandas as pd\n",
        "import numpy as np"
      ]
    },
    {
      "cell_type": "code",
      "source": [
        "df=pd.read_csv(\"data.csv\")\n",
        "print(df)"
      ],
      "metadata": {
        "colab": {
          "base_uri": "https://localhost:8080/"
        },
        "id": "nuEmAWUxbZG9",
        "outputId": "d730ac09-167d-4a0a-9219-5b2bdc6ae5e8"
      },
      "execution_count": 5,
      "outputs": [
        {
          "output_type": "stream",
          "name": "stdout",
          "text": [
            "   x    y\n",
            "0  0  1.0\n",
            "1  1  1.8\n",
            "2  2  1.3\n",
            "3  3  2.5\n",
            "4  4  6.3\n"
          ]
        }
      ]
    },
    {
      "cell_type": "code",
      "source": [
        "df[\"xy\"]=df[\"x\"]*df[\"y\"]\n",
        "df[\"x2y\"]=(df[\"x\"]**2)*df[\"y\"]\n",
        "df[\"x3\"]=df[\"x\"]**3\n",
        "df[\"x4\"]=df[\"x\"]**4\n",
        "sum_x=sum(df[\"x\"])\n",
        "sum_y=sum(df[\"y\"])\n",
        "sum_xy=sum(df[\"xy\"])\n",
        "sum_x2y=sum(df[\"x2y\"])\n",
        "sum_x3=sum(df[\"x3\"])\n",
        "sum_x4=sum(df[\"x4\"])\n",
        "sum_x2=sum(df[\"x\"]**2)\n",
        "#by crammer's rule\n",
        "m1=[len(df[\"x\"]),sum_x,sum_x2]\n",
        "m2=[sum_x,sum_x2,sum_x3]\n",
        "m3=[sum_x2,sum_x3,sum_x4]\n",
        "m4=[sum_y,sum_xy,sum_x2y]\n",
        "delta=np.linalg.det(np.array([m1,m2,m3]))\n",
        "delta1=np.linalg.det(np.array([m4,m2,m3]))\n",
        "delta2=np.linalg.det(np.array([m1,m4,m3]))\n",
        "delta3=np.linalg.det(np.array([m1,m2,m4]))\n",
        "a=delta1/delta\n",
        "b=delta2/delta\n",
        "c=delta3/delta\n",
        "y_obs=a+b*df[\"x\"]+c*(df[\"x\"]**2)\n",
        "print(y_obs)"
      ],
      "metadata": {
        "colab": {
          "base_uri": "https://localhost:8080/"
        },
        "id": "GsAN406Xbho5",
        "outputId": "849b6d92-5a32-4a96-b2bb-bebe929c82c4"
      },
      "execution_count": 10,
      "outputs": [
        {
          "output_type": "stream",
          "name": "stdout",
          "text": [
            "0    1.42\n",
            "1    0.90\n",
            "2    1.48\n",
            "3    3.16\n",
            "4    5.94\n",
            "Name: x, dtype: float64\n"
          ]
        }
      ]
    },
    {
      "cell_type": "code",
      "source": [
        "#error calculation\n",
        "import statistics\n",
        "ybar = statistics.mean(df[\"y\"])\n",
        "residual=sum((df[\"y\"]-y_obs)**2)\n",
        "sst=sum((df[\"y\"]-ybar)**2)\n",
        "r2=1-(residual/sst)\n",
        "print(r2)\n",
        "if r2>0.90:\n",
        "  print(\"its a good fit\")\n",
        "else:\n",
        "  print(\"its not a good fit\")"
      ],
      "metadata": {
        "colab": {
          "base_uri": "https://localhost:8080/"
        },
        "id": "Xh2iJ1PDe9vB",
        "outputId": "2d0ce011-f5df-4f6d-891a-64f9e56c775d"
      },
      "execution_count": 11,
      "outputs": [
        {
          "output_type": "stream",
          "name": "stdout",
          "text": [
            "0.9147837314396385\n",
            "its a good fit\n"
          ]
        }
      ]
    }
  ]
}