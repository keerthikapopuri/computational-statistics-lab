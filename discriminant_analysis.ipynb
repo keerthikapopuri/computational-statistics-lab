{
  "nbformat": 4,
  "nbformat_minor": 0,
  "metadata": {
    "colab": {
      "provenance": [],
      "authorship_tag": "ABX9TyOIsAK/BAOWDFamVQZ/ooeH",
      "include_colab_link": true
    },
    "kernelspec": {
      "name": "python3",
      "display_name": "Python 3"
    },
    "language_info": {
      "name": "python"
    }
  },
  "cells": [
    {
      "cell_type": "markdown",
      "metadata": {
        "id": "view-in-github",
        "colab_type": "text"
      },
      "source": [
        "<a href=\"https://colab.research.google.com/github/keerthikapopuri/computational-statistics-lab/blob/main/discriminant_analysis.ipynb\" target=\"_parent\"><img src=\"https://colab.research.google.com/assets/colab-badge.svg\" alt=\"Open In Colab\"/></a>"
      ]
    },
    {
      "cell_type": "code",
      "execution_count": 165,
      "metadata": {
        "id": "H4hspB5hBsnM"
      },
      "outputs": [],
      "source": [
        "import numpy as np\n",
        "import statistics as st\n",
        "import math\n",
        "def multiply(a,b):\n",
        "  row1,col1=a.shape\n",
        "  row2,col2=b.shape\n",
        "  new=np.zeros((row1,col2),dtype=float)\n",
        "  for i in range(row1):\n",
        "    for j in range(col2):\n",
        "      for k in range(col1):\n",
        "        new[i][j]=new[i][j]+(a[i][k]*b[k][j])\n",
        "  return new\n",
        "#determinant of matrix\n",
        "def cofactor(a,i,j):\n",
        "  temp=np.concatenate((a[:i,:j],a[:i,j+1:]),axis=1)\n",
        "  new=np.concatenate((a[i+1:,:j],a[i+1:,j+1:]),axis=1)\n",
        "  return np.concatenate((temp,new))\n",
        "def det_of(a):\n",
        "  if(len(a)==2):\n",
        "    val=(a[0][0]*a[1][1])-(a[0][1]*a[1][0])\n",
        "  elif(len(a)==1):\n",
        "    val=a\n",
        "  else:\n",
        "    val=0\n",
        "    for col in range(len(a)):\n",
        "      sign=(-1)**col\n",
        "      sub_det=det_of(cofactor(a,0,col))\n",
        "      val+=(sign*a[0][col]*sub_det)\n",
        "  return val\n",
        "def transpose(a):\n",
        "  rows,cols=a.shape\n",
        "  new=np.zeros((cols,rows),dtype=float)\n",
        "  for i in range(rows):\n",
        "    for j in range(cols):\n",
        "      new[j][i]=a[i][j]\n",
        "  return new\n",
        "def adjoint(a):\n",
        "  rows,cols=a.shape\n",
        "  sign=[+1.0,-1.0]\n",
        "  temp=0\n",
        "  adj=np.empty([rows,cols],dtype=float)\n",
        "  for i in range(rows):\n",
        "    if(i%2==0):\n",
        "        temp=0\n",
        "    else:\n",
        "      temp=1\n",
        "    for j in range(cols):\n",
        "      if(temp==0):\n",
        "        mul=sign[0]\n",
        "        temp=1\n",
        "      else:\n",
        "        mul=sign[1]\n",
        "        temp=0\n",
        "      co=cofactor(a,i,j)\n",
        "      val=det_of(co)\n",
        "      #print(val)\n",
        "      val=val*mul\n",
        "      #print(mul)\n",
        "      adj[i][j]=val\n",
        "    \n",
        "  return adj\n",
        "def inverse(a):\n",
        "  adj=adjoint(a)\n",
        "  tran=transpose(adj)\n",
        "  det=det_of(a)\n",
        "  inv=tran/det\n",
        "  return inv"
      ]
    },
    {
      "cell_type": "markdown",
      "source": [
        "## **discriminant analysis using regression **"
      ],
      "metadata": {
        "id": "8ta0g6szltjm"
      }
    },
    {
      "cell_type": "code",
      "source": [
        "x1=np.array([[2.95,6.63],[2.53,7.79],[3.57,5.65],[3.16,5.47]])\n",
        "x2=np.array([[2.58,4.46],[2.16,6.22],[3.27,3.52]])\n",
        "xk=[2.81,5.46]\n",
        "l=transpose(np.array([[1,1,1,1,1,1,1]]))\n",
        "x=np.concatenate((x1,x2),axis=0)\n",
        "xdup=transpose(x)\n",
        "y=transpose(np.array([[1,1,1,1,2,2,2]]))\n",
        "xreg=np.concatenate((l,x),axis=1)\n",
        "first_part=inverse(multiply(transpose(xreg),xreg))\n",
        "second_part=multiply(transpose(xreg),y)\n",
        "beta=multiply(first_part,second_part)\n",
        "yobs=beta[0]+beta[1]*xk[0]+beta[2]*xk[1]\n",
        "print(yobs)"
      ],
      "metadata": {
        "colab": {
          "base_uri": "https://localhost:8080/"
        },
        "id": "S21Bka87VbKX",
        "outputId": "93e1b54a-240c-4cd5-9a78-fa03610435e2"
      },
      "execution_count": 164,
      "outputs": [
        {
          "output_type": "stream",
          "name": "stdout",
          "text": [
            "[1.57280916]\n"
          ]
        }
      ]
    },
    {
      "cell_type": "markdown",
      "source": [
        "## **Discriminant analysis using fischer's formula** "
      ],
      "metadata": {
        "id": "8tQnll46l1s2"
      }
    },
    {
      "cell_type": "code",
      "source": [
        "x1=np.array([[2.95,6.63],[2.53,7.79],[3.57,5.65],[3.16,5.47]])\n",
        "x2=np.array([[2.58,4.46],[2.16,6.22],[3.27,3.52]])\n",
        "x=np.concatenate((x1,x2),axis=0)\n",
        "u1=[]\n",
        "u2=[]\n",
        "u=[]\n",
        "for i in transpose(x1):\n",
        "  u1.append(round(st.mean(i),2))\n",
        "for i in transpose(x2):\n",
        "  u2.append(round(st.mean(i),2))\n",
        "for i in transpose(x):\n",
        "  u.append(round(st.mean(i),2))\n",
        "rows,cols=x.shape\n",
        "xminusu=np.empty([rows,cols])\n",
        "for i in range(cols):\n",
        "  for j in range(rows):\n",
        "    xminusu[j][i]=round(x[j][i]-u[i],2)\n",
        "tran=transpose(xminusu)\n",
        "c=multiply(tran,xminusu)\n",
        "rows,cols=c.shape\n",
        "for i in range(rows):\n",
        "  for j in range(cols):\n",
        "    c[i][j]=c[i][j]/len(x)\n",
        "cinv=inverse(c)\n",
        "print(cinv)\n",
        "xk=np.array([[2.81,5.46]])\n",
        "u1=np.array([u1])\n",
        "u2=np.array([u2])\n",
        "f1=multiply(multiply(u1,cinv),transpose(xk))-(0.5*multiply(multiply(u1,cinv),transpose(u1)))+np.log(len(x1)/len(x))\n",
        "print(f1)\n",
        "f2=multiply(multiply(u2,cinv),transpose(xk))-(0.5*multiply(multiply(u2,cinv),transpose(u2)))+np.log(len(x2)/len(x))\n",
        "print(f2)\n",
        "if(f1>f2):\n",
        "  print(\"it belongs to first group\")\n",
        "else:\n",
        "  print(\"it belongs to second group\")\n"
      ],
      "metadata": {
        "colab": {
          "base_uri": "https://localhost:8080/"
        },
        "id": "_K5sdLTfHa14",
        "outputId": "8a7c5ec1-dc66-4960-b921-15422666d858"
      },
      "execution_count": 163,
      "outputs": [
        {
          "output_type": "stream",
          "name": "stdout",
          "text": [
            "[[5.73160585 0.78218526]\n",
            " [0.78218526 0.69770054]]\n",
            "[[43.83654741]]\n",
            "[[43.85989758]]\n",
            "it belongs to second group\n"
          ]
        }
      ]
    }
  ]
}