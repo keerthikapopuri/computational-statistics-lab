{
 "cells": [
  {
   "cell_type": "code",
   "execution_count": 27,
   "id": "f927bd4b",
   "metadata": {},
   "outputs": [
    {
     "name": "stdout",
     "output_type": "stream",
     "text": [
      "3\n",
      "13 10 8 11 8\n",
      "13 11 14 14\n",
      "4 1 3 4 2 4\n",
      "50.625\n",
      "F_onewayResult(statistic=88.63636363636364, pvalue=2.658791363055044e-08)\n"
     ]
    }
   ],
   "source": [
    "from scipy.stats import f_oneway\n",
    "k=int(input())\n",
    "l=[]\n",
    "for i in range(k):\n",
    "    l1=list(map(int,input().split()))\n",
    "    l.append(l1)\n",
    "ti=[]\n",
    "ti_=[]\n",
    "N=0\n",
    "rss=0\n",
    "for i in l:\n",
    "    ti.append(sum(i))\n",
    "    ti_.append(sum(i)**2/len(i))\n",
    "    N=N+len(i)\n",
    "for i in l:\n",
    "    for j in i:\n",
    "        rss+=j**2\n",
    "cf=sum(ti)**2/N\n",
    "sst=rss-cf\n",
    "sstr=sum(ti_)-cf\n",
    "sse=sst-sstr\n",
    "dftr=len(l)-1\n",
    "dfe=N-len(l)\n",
    "numerator=sstr/dftr\n",
    "deno=sse/dfe\n",
    "if(numerator>deno):\n",
    "    f=numerator/deno\n",
    "else:\n",
    "    f=deno/numerator\n",
    "print(f)\n",
    "print(f_oneway(l1,l2,l3))"
   ]
  },
  {
   "cell_type": "code",
   "execution_count": null,
   "id": "a3e21aeb",
   "metadata": {},
   "outputs": [],
   "source": []
  }
 ],
 "metadata": {
  "kernelspec": {
   "display_name": "Python 3 (ipykernel)",
   "language": "python",
   "name": "python3"
  },
  "language_info": {
   "codemirror_mode": {
    "name": "ipython",
    "version": 3
   },
   "file_extension": ".py",
   "mimetype": "text/x-python",
   "name": "python",
   "nbconvert_exporter": "python",
   "pygments_lexer": "ipython3",
   "version": "3.9.7"
  }
 },
 "nbformat": 4,
 "nbformat_minor": 5
}
