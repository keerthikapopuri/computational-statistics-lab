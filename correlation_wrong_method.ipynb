{
 "cells": [
  {
   "cell_type": "code",
   "execution_count": 20,
   "id": "a1e9954c",
   "metadata": {},
   "outputs": [],
   "source": [
    "import pandas as pd\n",
    "import math"
   ]
  },
  {
   "cell_type": "code",
   "execution_count": 21,
   "id": "4c53814f",
   "metadata": {},
   "outputs": [
    {
     "name": "stdout",
     "output_type": "stream",
     "text": [
      "   col1  col2\n",
      "0    56    58\n",
      "1    12    10\n",
      "2    23    25\n",
      "3    67    69\n",
      "4    79    75\n",
      "5    99    94\n",
      "6    45    43\n"
     ]
    }
   ],
   "source": [
    "df=pd.read_csv(\"C:\\\\Users\\\\y20cs142\\\\Desktop\\\\relation.csv\")\n",
    "print(df)\n",
    "def summation(l):\n",
    "    sum=0\n",
    "    for i in l:\n",
    "        sum=sum+i\n",
    "    return sum"
   ]
  },
  {
   "cell_type": "code",
   "execution_count": 22,
   "id": "bde6e67c",
   "metadata": {},
   "outputs": [],
   "source": [
    "x=df['col1']\n",
    "y=df['col2']"
   ]
  },
  {
   "cell_type": "code",
   "execution_count": 23,
   "id": "ade0e417",
   "metadata": {},
   "outputs": [
    {
     "name": "stdout",
     "output_type": "stream",
     "text": [
      "sum of x values= 381\n",
      "sum of y values= 374\n",
      "sum of x2 values= 26365\n",
      "sum of xy values= 25732\n"
     ]
    }
   ],
   "source": [
    "sumx=summation(x)\n",
    "print('sum of x values=',sumx)\n",
    "sumy=summation(y)\n",
    "print('sum of y values=',sumy)\n",
    "sumxx=summation(x*x)\n",
    "print('sum of x2 values=',sumxx)\n",
    "sumxy=summation(x*y)\n",
    "print('sum of xy values=',sumxy)"
   ]
  },
  {
   "cell_type": "code",
   "execution_count": 24,
   "id": "a003d8f0",
   "metadata": {},
   "outputs": [
    {
     "name": "stdout",
     "output_type": "stream",
     "text": [
      "54.42857142857143\n",
      "53.42857142857143\n"
     ]
    }
   ],
   "source": [
    "xbar=sumx/len(x)\n",
    "ybar=sumy/len(y)\n",
    "print(xbar)\n",
    "print(ybar)"
   ]
  },
  {
   "cell_type": "code",
   "execution_count": 25,
   "id": "a6c42eec",
   "metadata": {},
   "outputs": [
    {
     "name": "stdout",
     "output_type": "stream",
     "text": [
      "5375.714285714286\n"
     ]
    }
   ],
   "source": [
    "#numerator\n",
    "devx=0\n",
    "devy=0\n",
    "devx=x-xbar\n",
    "devy=y-ybar\n",
    "com_dev=devx*devy\n",
    "dev=summation(com_dev)\n",
    "print(dev)"
   ]
  },
  {
   "cell_type": "code",
   "execution_count": 26,
   "id": "51614666",
   "metadata": {},
   "outputs": [
    {
     "name": "stdout",
     "output_type": "stream",
     "text": [
      "5398.027107477437\n"
     ]
    }
   ],
   "source": [
    "#denominator\n",
    "devx=devx**2\n",
    "devy=devy**2\n",
    "dx=summation(devx)\n",
    "dy=summation(devy)\n",
    "deno=math.sqrt(dx)*math.sqrt(dy)\n",
    "print(deno)"
   ]
  },
  {
   "cell_type": "code",
   "execution_count": 27,
   "id": "3361fc64",
   "metadata": {},
   "outputs": [
    {
     "name": "stdout",
     "output_type": "stream",
     "text": [
      "0.9958664857884387\n"
     ]
    }
   ],
   "source": [
    "print(dev/deno)"
   ]
  }
 ],
 "metadata": {
  "kernelspec": {
   "display_name": "Python 3 (ipykernel)",
   "language": "python",
   "name": "python3"
  },
  "language_info": {
   "codemirror_mode": {
    "name": "ipython",
    "version": 3
   },
   "file_extension": ".py",
   "mimetype": "text/x-python",
   "name": "python",
   "nbconvert_exporter": "python",
   "pygments_lexer": "ipython3",
   "version": "3.9.7"
  }
 },
 "nbformat": 4,
 "nbformat_minor": 5
}
