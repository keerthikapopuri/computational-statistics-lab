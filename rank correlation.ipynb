{
 "cells": [
  {
   "cell_type": "code",
   "execution_count": 45,
   "id": "e8960f6f",
   "metadata": {},
   "outputs": [],
   "source": [
    "import pandas as pd"
   ]
  },
  {
   "cell_type": "code",
   "execution_count": 46,
   "id": "384ce2f0",
   "metadata": {},
   "outputs": [],
   "source": [
    "df=pd.read_csv('C:\\\\Users\\\\y20cs142\\\\Desktop\\\\data.csv')"
   ]
  },
  {
   "cell_type": "code",
   "execution_count": 69,
   "id": "bf1d16ba",
   "metadata": {},
   "outputs": [
    {
     "name": "stdout",
     "output_type": "stream",
     "text": [
      "72.0\n",
      "75.0\n",
      "    x   y  rankx  ranky   di  di**2\n",
      "0  68  62    4.0    5.0 -1.0    1.0\n",
      "1  64  58    6.0    7.0 -1.0    1.0\n",
      "2  75  68    2.5    3.5 -1.0    1.0\n",
      "3  50  45    9.0   10.0 -1.0    1.0\n",
      "4  64  81    6.0    1.0  5.0   25.0\n",
      "5  80  60    1.0    6.0 -5.0   25.0\n",
      "6  75  68    2.5    3.5 -1.0    1.0\n",
      "7  40  48   10.0    9.0  1.0    1.0\n",
      "8  55  50    8.0    8.0  0.0    0.0\n",
      "9  64  70    6.0    2.0  4.0   16.0\n",
      "rank coefficient is:  0.545\n"
     ]
    }
   ],
   "source": [
    "def rank_calc(x,colname):\n",
    "    df[colname]=0\n",
    "    rank=1\n",
    "    sort_x=sorted(x,reverse=True)\n",
    "    for i in range(len(x)):\n",
    "        if x.count(x[i])==1:\n",
    "            rank=sort_x.index(x[i])+1\n",
    "            df.loc[i,colname]=rank \n",
    "        else:\n",
    "            index_count=x.count(x[i])\n",
    "            temp=sort_x.index(x[i])+1\n",
    "            rank=temp\n",
    "            for j in range(index_count-1):\n",
    "                temp+=1\n",
    "                rank+=temp\n",
    "            rank/=index_count\n",
    "            rank=round(rank,1)\n",
    "            df.loc[i,colname]=rank\n",
    "def correction_factor(x,sum_df):\n",
    "    mylist = list(dict.fromkeys(x))\n",
    "    cf=0\n",
    "    for i in mylist:\n",
    "        c=x.count(i)\n",
    "        if c>1:\n",
    "            cf+=((c)*(c**2-1)/12)\n",
    "    sum_df+=cf\n",
    "    return sum_df\n",
    "x=df['x']\n",
    "x=list(x)\n",
    "n=len(x)\n",
    "rank_calc(x,'rankx')\n",
    "y=df['y']\n",
    "y=list(y)\n",
    "rank_calc(y,'ranky')\n",
    "df['di']=df['rankx']-df['ranky']\n",
    "df['di**2']=df['di']*df['di']\n",
    "sum_df=sum(df['di**2'])\n",
    "print(sum_df)\n",
    "sum_df=correction_factor(x,sum_df);\n",
    "sum_df=correction_factor(y,sum_df);\n",
    "print(sum_df)\n",
    "print(df)\n",
    "rank_coeff=1-((6*sum_df)/(n*(n**2-1)))\n",
    "print(\"rank coefficient is: \",round(rank_coeff,3))"
   ]
  },
  {
   "cell_type": "code",
   "execution_count": null,
   "id": "4fa7b4fc",
   "metadata": {},
   "outputs": [],
   "source": []
  }
 ],
 "metadata": {
  "kernelspec": {
   "display_name": "Python 3 (ipykernel)",
   "language": "python",
   "name": "python3"
  },
  "language_info": {
   "codemirror_mode": {
    "name": "ipython",
    "version": 3
   },
   "file_extension": ".py",
   "mimetype": "text/x-python",
   "name": "python",
   "nbconvert_exporter": "python",
   "pygments_lexer": "ipython3",
   "version": "3.9.7"
  }
 },
 "nbformat": 4,
 "nbformat_minor": 5
}
