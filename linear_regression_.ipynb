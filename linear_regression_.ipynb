{
  "nbformat": 4,
  "nbformat_minor": 0,
  "metadata": {
    "colab": {
      "name": "linear regression .ipynb",
      "provenance": [],
      "authorship_tag": "ABX9TyOXyx2iPV/q/p4wsHm9c2L1",
      "include_colab_link": true
    },
    "kernelspec": {
      "name": "python3",
      "display_name": "Python 3"
    },
    "language_info": {
      "name": "python"
    }
  },
  "cells": [
    {
      "cell_type": "markdown",
      "metadata": {
        "id": "view-in-github",
        "colab_type": "text"
      },
      "source": [
        "<a href=\"https://colab.research.google.com/github/keerthikapopuri/computational-statistics-lab/blob/main/linear_regression_.ipynb\" target=\"_parent\"><img src=\"https://colab.research.google.com/assets/colab-badge.svg\" alt=\"Open In Colab\"/></a>"
      ]
    },
    {
      "cell_type": "code",
      "execution_count": 1,
      "metadata": {
        "id": "s6o06d-R1Arq"
      },
      "outputs": [],
      "source": [
        "import pandas as pd\n",
        "import matplotlib.pyplot as plt"
      ]
    },
    {
      "cell_type": "code",
      "source": [
        "df=pd.read_csv(\"data.csv\")\n",
        "print(df)\n",
        "x=df['col1']\n",
        "y=df['col2']\n",
        "def summation(l):\n",
        "    sum=0\n",
        "    for i in l:\n",
        "        sum=sum+i\n",
        "    return sum"
      ],
      "metadata": {
        "colab": {
          "base_uri": "https://localhost:8080/"
        },
        "id": "migdxPNm1JiI",
        "outputId": "0f7dae39-17c8-4bf2-cf66-b2902e1ae53d"
      },
      "execution_count": 2,
      "outputs": [
        {
          "output_type": "stream",
          "name": "stdout",
          "text": [
            "   col1  col2\n",
            "0    67    56\n",
            "1    23    34\n",
            "2    56    60\n",
            "3    89    82\n",
            "4   107    98\n",
            "5    45    56\n",
            "6    12    19\n"
          ]
        }
      ]
    },
    {
      "cell_type": "code",
      "source": [
        "sumx=summation(x)\n",
        "print('sum of x values=',sumx)\n",
        "sumy=summation(y)\n",
        "print('sum of y values=',sumy)\n",
        "sumxx=summation(x*x)\n",
        "print('sum of x2 values=',sumxx)\n",
        "sumxy=summation(x*y)\n",
        "print('sum of xy values=',sumxy)\n",
        "slope=((len(x)*sumxy)-(sumx*sumy))/((len(x)*sumxx)-(sumx)**2)\n",
        "print(slope)\n",
        "intercept=((sumxx*sumy)-(sumx*sumxy))/((len(x)*sumxx)-(sumx)**2)\n",
        "print(intercept)"
      ],
      "metadata": {
        "colab": {
          "base_uri": "https://localhost:8080/"
        },
        "id": "-aWlXWCq15x2",
        "outputId": "3469eb40-c24c-447f-e9b4-74d8e8bca201"
      },
      "execution_count": 3,
      "outputs": [
        {
          "output_type": "stream",
          "name": "stdout",
          "text": [
            "sum of x values= 399\n",
            "sum of y values= 405\n",
            "sum of x2 values= 29693\n",
            "sum of xy values= 28426\n",
            "0.7684892086330936\n",
            "14.053257965056526\n"
          ]
        }
      ]
    },
    {
      "cell_type": "code",
      "source": [
        "yexp=slope*x+intercept\n",
        "ycal=df['col2']\n",
        "print(yexp)\n",
        "print(ycal)"
      ],
      "metadata": {
        "colab": {
          "base_uri": "https://localhost:8080/"
        },
        "id": "KbTaw0c718In",
        "outputId": "29ece9d8-88cf-4665-a493-09da741612be"
      },
      "execution_count": 4,
      "outputs": [
        {
          "output_type": "stream",
          "name": "stdout",
          "text": [
            "0    65.542035\n",
            "1    31.728510\n",
            "2    57.088654\n",
            "3    82.448798\n",
            "4    96.281603\n",
            "5    48.635272\n",
            "6    23.275128\n",
            "Name: col1, dtype: float64\n",
            "0    56\n",
            "1    34\n",
            "2    60\n",
            "3    82\n",
            "4    98\n",
            "5    56\n",
            "6    19\n",
            "Name: col2, dtype: int64\n"
          ]
        }
      ]
    },
    {
      "cell_type": "code",
      "source": [
        "plt.plot(x,ycal)\n",
        "plt.scatter(x,ycal)\n",
        "plt.plot(x,yexp)\n",
        "plt.scatter(x,yexp)\n",
        "plt.show()"
      ],
      "metadata": {
        "colab": {
          "base_uri": "https://localhost:8080/",
          "height": 265
        },
        "id": "5vAYX8Fa1-Q_",
        "outputId": "dd6f2aaa-ac45-45b7-e7ce-0bf7727b7a9a"
      },
      "execution_count": 5,
      "outputs": [
        {
          "output_type": "display_data",
          "data": {
            "text/plain": [
              "<Figure size 432x288 with 1 Axes>"
            ],
            "image/png": "[encoded data removed]"
          },
          "metadata": {
            "needs_background": "light"
          }
        }
      ]
    },
    {
      "cell_type": "code",
      "source": [
        "#error calculation \n",
        "errors=summation((yexp-ycal)**2)\n",
        "print(\"RSS= \",errors)\n",
        "mse=errors/len(x)\n",
        "print(\"MSE= \",mse)"
      ],
      "metadata": {
        "colab": {
          "base_uri": "https://localhost:8080/"
        },
        "id": "goDO6I2F2AWu",
        "outputId": "230a7330-51c4-4496-a3f0-3616331681b7"
      },
      "execution_count": 17,
      "outputs": [
        {
          "output_type": "stream",
          "name": "stdout",
          "text": [
            "RSS=  180.3562795477903\n",
            "MSE=  25.765182792541474\n"
          ]
        }
      ]
    }
  ]
}