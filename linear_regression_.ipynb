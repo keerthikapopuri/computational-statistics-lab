{
  "nbformat": 4,
  "nbformat_minor": 0,
  "metadata": {
    "colab": {
      "name": "linear regression .ipynb",
      "provenance": [],
      "authorship_tag": "ABX9TyNc6WuocxPFPAAwX+Wm3vxh",
      "include_colab_link": true
    },
    "kernelspec": {
      "name": "python3",
      "display_name": "Python 3"
    },
    "language_info": {
      "name": "python"
    }
  },
  "cells": [
    {
      "cell_type": "markdown",
      "metadata": {
        "id": "view-in-github",
        "colab_type": "text"
      },
      "source": [
        "<a href=\"https://colab.research.google.com/github/keerthikapopuri/computational-statistics-lab/blob/main/linear_regression_.ipynb\" target=\"_parent\"><img src=\"https://colab.research.google.com/assets/colab-badge.svg\" alt=\"Open In Colab\"/></a>"
      ]
    },
    {
      "cell_type": "code",
      "execution_count": 1,
      "metadata": {
        "id": "s6o06d-R1Arq"
      },
      "outputs": [],
      "source": [
        "import pandas as pd\n",
        "import matplotlib.pyplot as plt"
      ]
    },
    {
      "cell_type": "code",
      "source": [
        "df=pd.read_csv(\"data.csv\")\n",
        "print(df)\n",
        "x=df['col1']\n",
        "y=df['col2']\n",
        "def summation(l):\n",
        "    sum=0\n",
        "    for i in l:\n",
        "        sum=sum+i\n",
        "    return sum"
      ],
      "metadata": {
        "colab": {
          "base_uri": "https://localhost:8080/"
        },
        "id": "migdxPNm1JiI",
        "outputId": "23fbd2a9-b537-4844-903f-ab029ea7a13f"
      },
      "execution_count": 2,
      "outputs": [
        {
          "output_type": "stream",
          "name": "stdout",
          "text": [
            "   col1  col2\n",
            "0    23    26\n",
            "1    34    31\n",
            "2    43    47\n",
            "3    57    51\n",
            "4    66    60\n",
            "5    73    76\n",
            "6    82    87\n"
          ]
        }
      ]
    },
    {
      "cell_type": "code",
      "source": [
        "sumx=summation(x)\n",
        "print('sum of x values=',sumx)\n",
        "sumy=summation(y)\n",
        "print('sum of y values=',sumy)\n",
        "sumxx=summation(x*x)\n",
        "print('sum of x2 values=',sumxx)\n",
        "sumxy=summation(x*y)\n",
        "print('sum of xy values=',sumxy)\n",
        "slope=((len(x)*sumxy)-(sumx*sumy))/((len(x)*sumxx)-(sumx)**2)\n",
        "print(slope)\n",
        "intercept=((sumxx*sumy)-(sumx*sumxy))/((len(x)*sumxx)-(sumx)**2)\n",
        "print(intercept)"
      ],
      "metadata": {
        "colab": {
          "base_uri": "https://localhost:8080/"
        },
        "id": "-aWlXWCq15x2",
        "outputId": "cedcb368-de7c-4dfd-973c-95e71567cb0b"
      },
      "execution_count": 3,
      "outputs": [
        {
          "output_type": "stream",
          "name": "stdout",
          "text": [
            "sum of x values= 378\n",
            "sum of y values= 378\n",
            "sum of x2 values= 23192\n",
            "sum of xy values= 23222\n",
            "1.0107913669064748\n",
            "-0.5827338129496403\n"
          ]
        }
      ]
    },
    {
      "cell_type": "code",
      "source": [
        "yexp=slope*x+intercept\n",
        "ycal=df['col2']\n",
        "print(yexp)\n",
        "print(ycal)"
      ],
      "metadata": {
        "colab": {
          "base_uri": "https://localhost:8080/"
        },
        "id": "KbTaw0c718In",
        "outputId": "8dc2394a-753f-4e5f-a999-b0b5d9c91142"
      },
      "execution_count": 4,
      "outputs": [
        {
          "output_type": "stream",
          "name": "stdout",
          "text": [
            "0    22.665468\n",
            "1    33.784173\n",
            "2    42.881295\n",
            "3    57.032374\n",
            "4    66.129496\n",
            "5    73.205036\n",
            "6    82.302158\n",
            "Name: col1, dtype: float64\n",
            "0    26\n",
            "1    31\n",
            "2    47\n",
            "3    51\n",
            "4    60\n",
            "5    76\n",
            "6    87\n",
            "Name: col2, dtype: int64\n"
          ]
        }
      ]
    },
    {
      "cell_type": "code",
      "source": [
        "plt.plot(x,ycal)\n",
        "plt.scatter(x,ycal)\n",
        "plt.plot(x,yexp)\n",
        "plt.scatter(x,yexp)\n",
        "plt.show()"
      ],
      "metadata": {
        "colab": {
          "base_uri": "https://localhost:8080/",
          "height": 269
        },
        "id": "5vAYX8Fa1-Q_",
        "outputId": "913e9b31-14c4-46d9-a5ff-b35d6bca7db0"
      },
      "execution_count": 5,
      "outputs": [
        {
          "output_type": "display_data",
          "data": {
            "text/plain": [
              "<Figure size 432x288 with 1 Axes>"
            ],
            "image/png": "[encoded data removed]"
          },
          "metadata": {
            "needs_background": "light"
          }
        }
      ]
    },
    {
      "cell_type": "code",
      "source": [
        "#error calculation \n",
        "import statistics\n",
        "ybar = statistics.mean(yexp)\n",
        "residual=summation((yexp-ycal)**2)\n",
        "sst=summation((yexp-ybar)**2)\n",
        "r2=1-(residual/sst)\n",
        "print(r2)\n",
        "if r2>0.90:\n",
        "  print(\"its a good fit\")\n",
        "else:\n",
        "  print(\"its not a good fit\")"
      ],
      "metadata": {
        "colab": {
          "base_uri": "https://localhost:8080/"
        },
        "id": "goDO6I2F2AWu",
        "outputId": "46f66206-b63e-4766-8d21-f12ef37d5558"
      },
      "execution_count": 8,
      "outputs": [
        {
          "output_type": "stream",
          "name": "stdout",
          "text": [
            "0.9508238244196502\n",
            "its a good fit\n"
          ]
        }
      ]
    }
  ]
}