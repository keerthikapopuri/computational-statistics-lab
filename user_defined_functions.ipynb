{
  "nbformat": 4,
  "nbformat_minor": 0,
  "metadata": {
    "colab": {
      "name": "user_defined_functions.ipynb",
      "provenance": [],
      "authorship_tag": "ABX9TyPMKVVwVvafTHkxUShdnRhM",
      "include_colab_link": true
    },
    "kernelspec": {
      "name": "python3",
      "display_name": "Python 3"
    },
    "language_info": {
      "name": "python"
    }
  },
  "cells": [
    {
      "cell_type": "markdown",
      "metadata": {
        "id": "view-in-github",
        "colab_type": "text"
      },
      "source": [
        "<a href=\"https://colab.research.google.com/github/keerthikapopuri/computational-statistics-lab/blob/main/user_defined_functions.ipynb\" target=\"_parent\"><img src=\"https://colab.research.google.com/assets/colab-badge.svg\" alt=\"Open In Colab\"/></a>"
      ]
    },
    {
      "cell_type": "markdown",
      "source": [
        "determinant"
      ],
      "metadata": {
        "id": "UacMS_H4ZQ2B"
      }
    },
    {
      "cell_type": "code",
      "source": [
        "#determinant of matrix\n",
        "import numpy as np\n",
        "def cofactor(a,i,j):\n",
        "  temp=np.concatenate((a[:i,:j],a[:i,j+1:]),axis=1)\n",
        "  new=np.concatenate((a[i+1:,:j],a[i+1:,j+1:]),axis=1)\n",
        "  return np.concatenate((temp,new))\n",
        "def det_of(a):\n",
        "  if(len(a)==2):\n",
        "    val=(a[0][0]*a[1][1])-(a[0][1]*a[1][0])\n",
        "  elif(len(a)==1):\n",
        "    val=a\n",
        "  else:\n",
        "    val=0\n",
        "    for col in range(len(a)):\n",
        "      sign=(-1)**col\n",
        "      sub_det=det_of(cofactor(a,0,col))\n",
        "      val+=(sign*a[0][col]*sub_det)\n",
        "  return val\n",
        "a=np.array([[6,9,1],[2,3,8],[10,7,9]])\n",
        "#finding determinant\n",
        "print(det_of(a))\n",
        "print(a)\n",
        "print(cofactor(a,1,2))"
      ],
      "metadata": {
        "colab": {
          "base_uri": "https://localhost:8080/"
        },
        "id": "lbcbWly-ZUpA",
        "outputId": "037b7632-814c-4851-b499-09798b9be67a"
      },
      "execution_count": 8,
      "outputs": [
        {
          "output_type": "stream",
          "name": "stdout",
          "text": [
            "368\n",
            "[[ 6  9  1]\n",
            " [ 2  3  8]\n",
            " [10  7  9]]\n",
            "[[ 6  9]\n",
            " [10  7]]\n"
          ]
        }
      ]
    },
    {
      "cell_type": "markdown",
      "source": [
        "transpose"
      ],
      "metadata": {
        "id": "2cxfQHZAZVpo"
      }
    },
    {
      "cell_type": "code",
      "source": [
        "import numpy as np\n",
        "def transpose(a):\n",
        "  rows,cols=a.shape\n",
        "  new=np.zeros((cols,rows),dtype=float)\n",
        "  for i in range(rows):\n",
        "    for j in range(cols):\n",
        "      new[j][i]=a[i][j]\n",
        "  return new\n",
        "a=np.array([[1,2,3],[4,5,6],[7,8,9]])\n",
        "print(transpose(a))\n",
        "print(a)"
      ],
      "metadata": {
        "colab": {
          "base_uri": "https://localhost:8080/"
        },
        "id": "gAi_2FPPYChC",
        "outputId": "9493efcf-7d76-442a-fe3a-b7ecb358bc31"
      },
      "execution_count": 9,
      "outputs": [
        {
          "output_type": "stream",
          "name": "stdout",
          "text": [
            "[[1. 4. 7.]\n",
            " [2. 5. 8.]\n",
            " [3. 6. 9.]]\n",
            "[[1 2 3]\n",
            " [4 5 6]\n",
            " [7 8 9]]\n"
          ]
        }
      ]
    },
    {
      "cell_type": "markdown",
      "source": [
        "multiplication of matrices"
      ],
      "metadata": {
        "id": "Dsi_0FVic_vo"
      }
    },
    {
      "cell_type": "code",
      "source": [
        "import numpy as np\n",
        "def multiply(a,b):\n",
        "  row1,col1=a.shape\n",
        "  row2,col2=b.shape\n",
        "  new=np.zeros((row1,col2),dtype=float)\n",
        "  for i in range(row1):\n",
        "    for j in range(col2):\n",
        "      for k in range(col1):\n",
        "        new[i][j]=new[i][j]+(a[i][k]*b[k][j])\n",
        "  return new\n",
        "a=np.array([[1,2,3],[4,5,6],[7,8,9]])\n",
        "b=np.array([[9,8,7],[6,4,5],[3,2,1]])\n",
        "print(multiply(a,b))"
      ],
      "metadata": {
        "colab": {
          "base_uri": "https://localhost:8080/"
        },
        "id": "LAnxGJMcZYk5",
        "outputId": "5eba2106-3c34-4429-9fe9-d4aa47394f37"
      },
      "execution_count": 10,
      "outputs": [
        {
          "output_type": "stream",
          "name": "stdout",
          "text": [
            "[[ 30.  22.  20.]\n",
            " [ 84.  64.  59.]\n",
            " [138. 106.  98.]]\n"
          ]
        }
      ]
    },
    {
      "cell_type": "markdown",
      "source": [
        "adjoint matrix"
      ],
      "metadata": {
        "id": "MemvWBadl9kq"
      }
    },
    {
      "cell_type": "code",
      "source": [
        "import numpy as np\n",
        "def adjoint(a):\n",
        "  rows,cols=a.shape\n",
        "  sign=[+1.0,-1.0]\n",
        "  temp=0\n",
        "  adj=np.empty([rows,cols],dtype=float)\n",
        "  for i in range(rows):\n",
        "    if(i%2==0):\n",
        "        temp=0\n",
        "    else:\n",
        "      temp=1\n",
        "    for j in range(cols):\n",
        "      if(temp==0):\n",
        "        mul=sign[0]\n",
        "        temp=1\n",
        "      else:\n",
        "        mul=sign[1]\n",
        "        temp=0\n",
        "      co=cofactor(a,i,j)\n",
        "      val=det_of(co)\n",
        "      #print(val)\n",
        "      val=val*mul\n",
        "      #print(mul)\n",
        "      adj[i][j]=val\n",
        "    \n",
        "  return adj\n",
        "a=np.array([[1,2,3],[4,5,6],[7,8,9]])\n",
        "adj=adjoint(a)\n",
        "print(adj)"
      ],
      "metadata": {
        "colab": {
          "base_uri": "https://localhost:8080/"
        },
        "id": "dj9KMfrydRf3",
        "outputId": "5b3b2a3c-5d36-4e03-8d6a-9e10b6595b44"
      },
      "execution_count": 11,
      "outputs": [
        {
          "output_type": "stream",
          "name": "stdout",
          "text": [
            "[[ -3.   6.  -3.]\n",
            " [  6. -12.   6.]\n",
            " [ -3.   6.  -3.]]\n"
          ]
        }
      ]
    },
    {
      "cell_type": "markdown",
      "source": [
        "inverse of a matrix"
      ],
      "metadata": {
        "id": "nL_U3QmgmCBh"
      }
    },
    {
      "cell_type": "code",
      "source": [
        "def inverse(a):\n",
        "  adj=adjoint(a)\n",
        "  tran=transpose(adj)\n",
        "  det=det_of(a)\n",
        "  inv=tran/det\n",
        "  return inv\n",
        "\n",
        "a=np.array([[1,2,7],[4,5,6],[7,10,9]])\n",
        "inv=inverse(a)\n",
        "print(inv)"
      ],
      "metadata": {
        "colab": {
          "base_uri": "https://localhost:8080/"
        },
        "id": "t5hY_eHgmDh0",
        "outputId": "c84cc679-4ac9-4e8d-9b6c-9d086075319c"
      },
      "execution_count": 12,
      "outputs": [
        {
          "output_type": "stream",
          "name": "stdout",
          "text": [
            "[[-0.46875  1.625   -0.71875]\n",
            " [ 0.1875  -1.25     0.6875 ]\n",
            " [ 0.15625  0.125   -0.09375]]\n"
          ]
        }
      ]
    }
  ]
}