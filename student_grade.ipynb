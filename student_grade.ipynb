{
 "cells": [
  {
   "cell_type": "code",
   "execution_count": 50,
   "id": "41119ff8",
   "metadata": {},
   "outputs": [],
   "source": [
    "import pandas as pd"
   ]
  },
  {
   "cell_type": "code",
   "execution_count": 51,
   "id": "4479c385",
   "metadata": {},
   "outputs": [],
   "source": [
    "pr=pd.read_csv('C:\\\\Users\\\\y20cs142\\\\Desktop\\\\student.csv')"
   ]
  },
  {
   "cell_type": "code",
   "execution_count": 52,
   "id": "8b948786",
   "metadata": {},
   "outputs": [],
   "source": [
    "df=pd.DataFrame(pr)"
   ]
  },
  {
   "cell_type": "code",
   "execution_count": 53,
   "id": "94299aa0",
   "metadata": {},
   "outputs": [
    {
     "data": {
      "text/plain": [
       "name    keerthi\n",
       "m1           89\n",
       "m2           71\n",
       "m3           90\n",
       "Name: 0, dtype: object"
      ]
     },
     "execution_count": 53,
     "metadata": {},
     "output_type": "execute_result"
    }
   ],
   "source": [
    "df.loc[0]"
   ]
  },
  {
   "cell_type": "code",
   "execution_count": 54,
   "id": "599795d6",
   "metadata": {},
   "outputs": [
    {
     "name": "stdout",
     "output_type": "stream",
     "text": [
      "<class 'pandas.core.frame.DataFrame'>\n",
      "RangeIndex: 4 entries, 0 to 3\n",
      "Data columns (total 4 columns):\n",
      " #   Column  Non-Null Count  Dtype \n",
      "---  ------  --------------  ----- \n",
      " 0   name    4 non-null      object\n",
      " 1   m1      4 non-null      int64 \n",
      " 2   m2      4 non-null      int64 \n",
      " 3   m3      4 non-null      int64 \n",
      "dtypes: int64(3), object(1)\n",
      "memory usage: 256.0+ bytes\n"
     ]
    }
   ],
   "source": [
    "df.info()"
   ]
  },
  {
   "cell_type": "code",
   "execution_count": 55,
   "id": "8f6410b1",
   "metadata": {},
   "outputs": [],
   "source": [
    "df['total']=df['m1']+df['m2']+df['m3']"
   ]
  },
  {
   "cell_type": "code",
   "execution_count": 56,
   "id": "2d8c5ee6",
   "metadata": {},
   "outputs": [],
   "source": [
    "df['percentage']=(df['total']/300)*100"
   ]
  },
  {
   "cell_type": "code",
   "execution_count": 57,
   "id": "b424abab",
   "metadata": {},
   "outputs": [
    {
     "name": "stdout",
     "output_type": "stream",
     "text": [
      "      name  m1  m2  m3  total  percentage grade\n",
      "0  keerthi  89  71  90    250   83.333333  null\n",
      "1    sravs  87  91  94    272   90.666667  null\n",
      "2    divya  94  95  86    275   91.666667  null\n",
      "3    alifa  62  92  89    243   81.000000  null\n"
     ]
    }
   ],
   "source": [
    "df['grade']='null'\n",
    "print(df)"
   ]
  },
  {
   "cell_type": "code",
   "execution_count": 60,
   "id": "e9feb3a1",
   "metadata": {},
   "outputs": [],
   "source": [
    "def grade_cal(var):\n",
    "    if var>=90:\n",
    "        return'a'\n",
    "    elif var>=80:\n",
    "        return'b'\n",
    "    else:\n",
    "        return'c'\n",
    "for i in range(4):\n",
    "    var=df.iat[i,5]\n",
    "    grade=grade_cal(var)\n",
    "    df.iat[i,6]=grade"
   ]
  },
  {
   "cell_type": "code",
   "execution_count": 61,
   "id": "7975d0fd",
   "metadata": {},
   "outputs": [
    {
     "name": "stdout",
     "output_type": "stream",
     "text": [
      "      name  m1  m2  m3  total  percentage grade\n",
      "0  keerthi  89  71  90    250   83.333333     b\n",
      "1    sravs  87  91  94    272   90.666667     a\n",
      "2    divya  94  95  86    275   91.666667     a\n",
      "3    alifa  62  92  89    243   81.000000     b\n"
     ]
    }
   ],
   "source": [
    "print(df)"
   ]
  },
  {
   "cell_type": "code",
   "execution_count": 64,
   "id": "2f19cab7",
   "metadata": {},
   "outputs": [],
   "source": [
    "df.to_csv(r'C:\\\\Users\\\\y20cs142\\\\Desktop\\\\student.csv')"
   ]
  },
  {
   "cell_type": "code",
   "execution_count": null,
   "id": "d3f73ed1",
   "metadata": {},
   "outputs": [],
   "source": []
  }
 ],
 "metadata": {
  "kernelspec": {
   "display_name": "Python 3 (ipykernel)",
   "language": "python",
   "name": "python3"
  },
  "language_info": {
   "codemirror_mode": {
    "name": "ipython",
    "version": 3
   },
   "file_extension": ".py",
   "mimetype": "text/x-python",
   "name": "python",
   "nbconvert_exporter": "python",
   "pygments_lexer": "ipython3",
   "version": "3.9.7"
  }
 },
 "nbformat": 4,
 "nbformat_minor": 5
}
